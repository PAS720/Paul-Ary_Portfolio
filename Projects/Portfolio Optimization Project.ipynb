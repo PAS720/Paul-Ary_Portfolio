{
 "cells": [
  {
   "cell_type": "markdown",
   "id": "6c2b766c",
   "metadata": {},
   "source": [
    "# Portfolio Optimization in Python"
   ]
  },
  {
   "cell_type": "code",
   "execution_count": 1,
   "id": "491433d9",
   "metadata": {},
   "outputs": [],
   "source": [
    "#import python libraries\n",
    "import numpy as np\n",
    "import pandas as pd\n",
    "import matplotlib.pyplot as plt\n",
    "from pandas_datareader import data as web\n",
    "%matplotlib inline"
   ]
  },
  {
   "cell_type": "markdown",
   "id": "5c264c68",
   "metadata": {},
   "source": [
    "## Retrieve data from yahoo finance"
   ]
  },
  {
   "cell_type": "code",
   "execution_count": 2,
   "id": "d6a8fdc2",
   "metadata": {
    "scrolled": false
   },
   "outputs": [
    {
     "data": {
      "text/html": [
       "<div>\n",
       "<style scoped>\n",
       "    .dataframe tbody tr th:only-of-type {\n",
       "        vertical-align: middle;\n",
       "    }\n",
       "\n",
       "    .dataframe tbody tr th {\n",
       "        vertical-align: top;\n",
       "    }\n",
       "\n",
       "    .dataframe thead th {\n",
       "        text-align: right;\n",
       "    }\n",
       "</style>\n",
       "<table border=\"1\" class=\"dataframe\">\n",
       "  <thead>\n",
       "    <tr style=\"text-align: right;\">\n",
       "      <th></th>\n",
       "      <th>MSFT</th>\n",
       "      <th>GOOG</th>\n",
       "      <th>TSLA</th>\n",
       "      <th>FB</th>\n",
       "      <th>AAPL</th>\n",
       "    </tr>\n",
       "    <tr>\n",
       "      <th>Date</th>\n",
       "      <th></th>\n",
       "      <th></th>\n",
       "      <th></th>\n",
       "      <th></th>\n",
       "      <th></th>\n",
       "    </tr>\n",
       "  </thead>\n",
       "  <tbody>\n",
       "    <tr>\n",
       "      <th>2017-03-24</th>\n",
       "      <td>60.657845</td>\n",
       "      <td>814.429993</td>\n",
       "      <td>52.632000</td>\n",
       "      <td>140.339996</td>\n",
       "      <td>33.196671</td>\n",
       "    </tr>\n",
       "    <tr>\n",
       "      <th>2017-03-27</th>\n",
       "      <td>60.769867</td>\n",
       "      <td>819.510010</td>\n",
       "      <td>54.043999</td>\n",
       "      <td>140.320007</td>\n",
       "      <td>33.253311</td>\n",
       "    </tr>\n",
       "    <tr>\n",
       "      <th>2017-03-28</th>\n",
       "      <td>60.947216</td>\n",
       "      <td>820.919983</td>\n",
       "      <td>55.490002</td>\n",
       "      <td>141.759995</td>\n",
       "      <td>33.942554</td>\n",
       "    </tr>\n",
       "    <tr>\n",
       "      <th>2017-03-29</th>\n",
       "      <td>61.115246</td>\n",
       "      <td>831.409973</td>\n",
       "      <td>55.476002</td>\n",
       "      <td>142.649994</td>\n",
       "      <td>34.018078</td>\n",
       "    </tr>\n",
       "    <tr>\n",
       "      <th>2017-03-30</th>\n",
       "      <td>61.339283</td>\n",
       "      <td>831.500000</td>\n",
       "      <td>55.584000</td>\n",
       "      <td>142.410004</td>\n",
       "      <td>33.973236</td>\n",
       "    </tr>\n",
       "    <tr>\n",
       "      <th>...</th>\n",
       "      <td>...</td>\n",
       "      <td>...</td>\n",
       "      <td>...</td>\n",
       "      <td>...</td>\n",
       "      <td>...</td>\n",
       "    </tr>\n",
       "    <tr>\n",
       "      <th>2022-03-18</th>\n",
       "      <td>300.429993</td>\n",
       "      <td>2736.030029</td>\n",
       "      <td>905.390015</td>\n",
       "      <td>216.490005</td>\n",
       "      <td>163.979996</td>\n",
       "    </tr>\n",
       "    <tr>\n",
       "      <th>2022-03-21</th>\n",
       "      <td>299.160004</td>\n",
       "      <td>2729.570068</td>\n",
       "      <td>921.159973</td>\n",
       "      <td>211.490005</td>\n",
       "      <td>165.380005</td>\n",
       "    </tr>\n",
       "    <tr>\n",
       "      <th>2022-03-22</th>\n",
       "      <td>304.059998</td>\n",
       "      <td>2805.550049</td>\n",
       "      <td>993.979980</td>\n",
       "      <td>216.649994</td>\n",
       "      <td>168.820007</td>\n",
       "    </tr>\n",
       "    <tr>\n",
       "      <th>2022-03-23</th>\n",
       "      <td>299.489990</td>\n",
       "      <td>2770.070068</td>\n",
       "      <td>999.109985</td>\n",
       "      <td>213.460007</td>\n",
       "      <td>170.210007</td>\n",
       "    </tr>\n",
       "    <tr>\n",
       "      <th>2022-03-24</th>\n",
       "      <td>304.100006</td>\n",
       "      <td>2826.239990</td>\n",
       "      <td>1013.919983</td>\n",
       "      <td>219.570007</td>\n",
       "      <td>174.070007</td>\n",
       "    </tr>\n",
       "  </tbody>\n",
       "</table>\n",
       "<p>1260 rows × 5 columns</p>\n",
       "</div>"
      ],
      "text/plain": [
       "                  MSFT         GOOG         TSLA          FB        AAPL\n",
       "Date                                                                    \n",
       "2017-03-24   60.657845   814.429993    52.632000  140.339996   33.196671\n",
       "2017-03-27   60.769867   819.510010    54.043999  140.320007   33.253311\n",
       "2017-03-28   60.947216   820.919983    55.490002  141.759995   33.942554\n",
       "2017-03-29   61.115246   831.409973    55.476002  142.649994   34.018078\n",
       "2017-03-30   61.339283   831.500000    55.584000  142.410004   33.973236\n",
       "...                ...          ...          ...         ...         ...\n",
       "2022-03-18  300.429993  2736.030029   905.390015  216.490005  163.979996\n",
       "2022-03-21  299.160004  2729.570068   921.159973  211.490005  165.380005\n",
       "2022-03-22  304.059998  2805.550049   993.979980  216.649994  168.820007\n",
       "2022-03-23  299.489990  2770.070068   999.109985  213.460007  170.210007\n",
       "2022-03-24  304.100006  2826.239990  1013.919983  219.570007  174.070007\n",
       "\n",
       "[1260 rows x 5 columns]"
      ]
     },
     "execution_count": 2,
     "metadata": {},
     "output_type": "execute_result"
    }
   ],
   "source": [
    "assets = ['MSFT', 'GOOG', 'TSLA', 'FB','AAPL']\n",
    "\n",
    "stock_data = pd.DataFrame()\n",
    "\n",
    "for a in assets:\n",
    "    stock_data[a] = web.DataReader(a, 'yahoo' , start = '2017-03-24', end = '2022-03-24')['Adj Close']\n",
    "\n",
    "stock_data"
   ]
  },
  {
   "cell_type": "code",
   "execution_count": 3,
   "id": "cc4774e3",
   "metadata": {},
   "outputs": [
    {
     "data": {
      "text/plain": [
       "Text(0, 0.5, '% Change')"
      ]
     },
     "execution_count": 3,
     "metadata": {},
     "output_type": "execute_result"
    },
    {
     "data": {
      "image/png": "[encoded data removed]",
      "text/plain": [
       "<Figure size 1008x504 with 1 Axes>"
      ]
     },
     "metadata": {
      "needs_background": "light"
     },
     "output_type": "display_data"
    }
   ],
   "source": [
    "# Normalize and plot data\n",
    "(stock_data/stock_data.iloc[0]*100).plot(figsize = (14,7))\n",
    "plt.ylabel('% Change')"
   ]
  },
  {
   "cell_type": "markdown",
   "id": "087ca9ea",
   "metadata": {},
   "source": [
    "## Measuring logarithmic returns"
   ]
  },
  {
   "cell_type": "code",
   "execution_count": 4,
   "id": "9bf5170d",
   "metadata": {},
   "outputs": [
    {
     "data": {
      "text/html": [
       "<div>\n",
       "<style scoped>\n",
       "    .dataframe tbody tr th:only-of-type {\n",
       "        vertical-align: middle;\n",
       "    }\n",
       "\n",
       "    .dataframe tbody tr th {\n",
       "        vertical-align: top;\n",
       "    }\n",
       "\n",
       "    .dataframe thead th {\n",
       "        text-align: right;\n",
       "    }\n",
       "</style>\n",
       "<table border=\"1\" class=\"dataframe\">\n",
       "  <thead>\n",
       "    <tr style=\"text-align: right;\">\n",
       "      <th></th>\n",
       "      <th>MSFT</th>\n",
       "      <th>GOOG</th>\n",
       "      <th>TSLA</th>\n",
       "      <th>FB</th>\n",
       "      <th>AAPL</th>\n",
       "    </tr>\n",
       "    <tr>\n",
       "      <th>Date</th>\n",
       "      <th></th>\n",
       "      <th></th>\n",
       "      <th></th>\n",
       "      <th></th>\n",
       "      <th></th>\n",
       "    </tr>\n",
       "  </thead>\n",
       "  <tbody>\n",
       "    <tr>\n",
       "      <th>2017-03-24</th>\n",
       "      <td>NaN</td>\n",
       "      <td>NaN</td>\n",
       "      <td>NaN</td>\n",
       "      <td>NaN</td>\n",
       "      <td>NaN</td>\n",
       "    </tr>\n",
       "    <tr>\n",
       "      <th>2017-03-27</th>\n",
       "      <td>0.001845</td>\n",
       "      <td>0.006218</td>\n",
       "      <td>0.026474</td>\n",
       "      <td>-0.000142</td>\n",
       "      <td>0.001705</td>\n",
       "    </tr>\n",
       "    <tr>\n",
       "      <th>2017-03-28</th>\n",
       "      <td>0.002914</td>\n",
       "      <td>0.001719</td>\n",
       "      <td>0.026404</td>\n",
       "      <td>0.010210</td>\n",
       "      <td>0.020515</td>\n",
       "    </tr>\n",
       "    <tr>\n",
       "      <th>2017-03-29</th>\n",
       "      <td>0.002753</td>\n",
       "      <td>0.012697</td>\n",
       "      <td>-0.000252</td>\n",
       "      <td>0.006259</td>\n",
       "      <td>0.002223</td>\n",
       "    </tr>\n",
       "    <tr>\n",
       "      <th>2017-03-30</th>\n",
       "      <td>0.003659</td>\n",
       "      <td>0.000108</td>\n",
       "      <td>0.001945</td>\n",
       "      <td>-0.001684</td>\n",
       "      <td>-0.001319</td>\n",
       "    </tr>\n",
       "    <tr>\n",
       "      <th>...</th>\n",
       "      <td>...</td>\n",
       "      <td>...</td>\n",
       "      <td>...</td>\n",
       "      <td>...</td>\n",
       "      <td>...</td>\n",
       "    </tr>\n",
       "    <tr>\n",
       "      <th>2022-03-18</th>\n",
       "      <td>0.017494</td>\n",
       "      <td>0.016220</td>\n",
       "      <td>0.038035</td>\n",
       "      <td>0.040776</td>\n",
       "      <td>0.020703</td>\n",
       "    </tr>\n",
       "    <tr>\n",
       "      <th>2022-03-21</th>\n",
       "      <td>-0.004236</td>\n",
       "      <td>-0.002364</td>\n",
       "      <td>0.017268</td>\n",
       "      <td>-0.023367</td>\n",
       "      <td>0.008501</td>\n",
       "    </tr>\n",
       "    <tr>\n",
       "      <th>2022-03-22</th>\n",
       "      <td>0.016246</td>\n",
       "      <td>0.027456</td>\n",
       "      <td>0.076083</td>\n",
       "      <td>0.024105</td>\n",
       "      <td>0.020587</td>\n",
       "    </tr>\n",
       "    <tr>\n",
       "      <th>2022-03-23</th>\n",
       "      <td>-0.015144</td>\n",
       "      <td>-0.012727</td>\n",
       "      <td>0.005148</td>\n",
       "      <td>-0.014834</td>\n",
       "      <td>0.008200</td>\n",
       "    </tr>\n",
       "    <tr>\n",
       "      <th>2022-03-24</th>\n",
       "      <td>0.015276</td>\n",
       "      <td>0.020075</td>\n",
       "      <td>0.014714</td>\n",
       "      <td>0.028222</td>\n",
       "      <td>0.022425</td>\n",
       "    </tr>\n",
       "  </tbody>\n",
       "</table>\n",
       "<p>1260 rows × 5 columns</p>\n",
       "</div>"
      ],
      "text/plain": [
       "                MSFT      GOOG      TSLA        FB      AAPL\n",
       "Date                                                        \n",
       "2017-03-24       NaN       NaN       NaN       NaN       NaN\n",
       "2017-03-27  0.001845  0.006218  0.026474 -0.000142  0.001705\n",
       "2017-03-28  0.002914  0.001719  0.026404  0.010210  0.020515\n",
       "2017-03-29  0.002753  0.012697 -0.000252  0.006259  0.002223\n",
       "2017-03-30  0.003659  0.000108  0.001945 -0.001684 -0.001319\n",
       "...              ...       ...       ...       ...       ...\n",
       "2022-03-18  0.017494  0.016220  0.038035  0.040776  0.020703\n",
       "2022-03-21 -0.004236 -0.002364  0.017268 -0.023367  0.008501\n",
       "2022-03-22  0.016246  0.027456  0.076083  0.024105  0.020587\n",
       "2022-03-23 -0.015144 -0.012727  0.005148 -0.014834  0.008200\n",
       "2022-03-24  0.015276  0.020075  0.014714  0.028222  0.022425\n",
       "\n",
       "[1260 rows x 5 columns]"
      ]
     },
     "execution_count": 4,
     "metadata": {},
     "output_type": "execute_result"
    }
   ],
   "source": [
    "stock_daily_return = np.log(stock_data/stock_data.shift(1))\n",
    "stock_daily_return"
   ]
  },
  {
   "cell_type": "code",
   "execution_count": 5,
   "id": "62b7a20b",
   "metadata": {
    "scrolled": true
   },
   "outputs": [
    {
     "data": {
      "text/plain": [
       "MSFT    0.32\n",
       "GOOG    0.25\n",
       "TSLA    0.59\n",
       "FB      0.09\n",
       "AAPL    0.33\n",
       "dtype: float64"
      ]
     },
     "execution_count": 5,
     "metadata": {},
     "output_type": "execute_result"
    }
   ],
   "source": [
    "# Estimating each security's yearly return\n",
    "stock_yearly_return = round(stock_daily_return.mean()*250, 2)\n",
    "stock_yearly_return"
   ]
  },
  {
   "cell_type": "markdown",
   "id": "574852d5",
   "metadata": {},
   "source": [
    "## Measuring risk"
   ]
  },
  {
   "cell_type": "code",
   "execution_count": 6,
   "id": "cf5eaa80",
   "metadata": {
    "scrolled": false
   },
   "outputs": [
    {
     "data": {
      "text/plain": [
       "MSFT    0.28\n",
       "GOOG    0.28\n",
       "TSLA    0.61\n",
       "FB      0.37\n",
       "AAPL    0.31\n",
       "dtype: float64"
      ]
     },
     "execution_count": 6,
     "metadata": {},
     "output_type": "execute_result"
    }
   ],
   "source": [
    "# Estimating each security's risk using the standard deviation (sqrt(250) to annualize results as std is sqrt of var)\n",
    "stock_yearly_vol = round(stock_daily_return.std()*(250**0.5), 2)\n",
    "stock_yearly_vol"
   ]
  },
  {
   "cell_type": "markdown",
   "id": "2765c5b0",
   "metadata": {},
   "source": [
    "## Create a dictionary with each security risk & return profile"
   ]
  },
  {
   "cell_type": "code",
   "execution_count": 7,
   "id": "b4bd54dc",
   "metadata": {},
   "outputs": [
    {
     "data": {
      "text/html": [
       "<div>\n",
       "<style scoped>\n",
       "    .dataframe tbody tr th:only-of-type {\n",
       "        vertical-align: middle;\n",
       "    }\n",
       "\n",
       "    .dataframe tbody tr th {\n",
       "        vertical-align: top;\n",
       "    }\n",
       "\n",
       "    .dataframe thead th {\n",
       "        text-align: right;\n",
       "    }\n",
       "</style>\n",
       "<table border=\"1\" class=\"dataframe\">\n",
       "  <thead>\n",
       "    <tr style=\"text-align: right;\">\n",
       "      <th></th>\n",
       "      <th>Return</th>\n",
       "      <th>Risk</th>\n",
       "    </tr>\n",
       "  </thead>\n",
       "  <tbody>\n",
       "    <tr>\n",
       "      <th>MSFT</th>\n",
       "      <td>0.32</td>\n",
       "      <td>0.28</td>\n",
       "    </tr>\n",
       "    <tr>\n",
       "      <th>GOOG</th>\n",
       "      <td>0.25</td>\n",
       "      <td>0.28</td>\n",
       "    </tr>\n",
       "    <tr>\n",
       "      <th>TSLA</th>\n",
       "      <td>0.59</td>\n",
       "      <td>0.61</td>\n",
       "    </tr>\n",
       "    <tr>\n",
       "      <th>FB</th>\n",
       "      <td>0.09</td>\n",
       "      <td>0.37</td>\n",
       "    </tr>\n",
       "    <tr>\n",
       "      <th>AAPL</th>\n",
       "      <td>0.33</td>\n",
       "      <td>0.31</td>\n",
       "    </tr>\n",
       "  </tbody>\n",
       "</table>\n",
       "</div>"
      ],
      "text/plain": [
       "      Return  Risk\n",
       "MSFT    0.32  0.28\n",
       "GOOG    0.25  0.28\n",
       "TSLA    0.59  0.61\n",
       "FB      0.09  0.37\n",
       "AAPL    0.33  0.31"
      ]
     },
     "execution_count": 7,
     "metadata": {},
     "output_type": "execute_result"
    }
   ],
   "source": [
    "stock_risk_return = pd.DataFrame({'Return': stock_yearly_return, 'Risk': stock_yearly_vol})\n",
    "stock_risk_return"
   ]
  },
  {
   "cell_type": "markdown",
   "id": "5e0e2a92",
   "metadata": {},
   "source": [
    "## Markowitz efficient frontier"
   ]
  },
  {
   "cell_type": "code",
   "execution_count": null,
   "id": "ca64821a",
   "metadata": {
    "scrolled": false
   },
   "outputs": [],
   "source": [
    "#Create a loop with 100000 iterations that will generate random weights and append values in lists\n",
    "portfolio_returns = []\n",
    "portfolio_volatilities = []\n",
    "portfolio_weights = []\n",
    "\n",
    "for x in range(100000):\n",
    "    weights = np.random.rand(len(assets))\n",
    "    weights /= sum(weights)\n",
    "    portfolio_returns.append(np.dot(weights.T, stock_yearly_return))\n",
    "    portfolio_volatilities.append(np.dot(weights.T, np.dot(stock_daily_return.cov()*250, weights)))\n",
    "    portfolio_weights.append(weights)\n",
    "\n",
    "# Create a dictionary with each combinations return and risk\n",
    "portfolio_data = pd.DataFrame({'Portfolio Return': portfolio_returns, 'Portfolio Volatility': portfolio_volatilities, 'Portfolio weights': portfolio_weights })\n",
    "portfolio_data"
   ]
  },
  {
   "cell_type": "code",
   "execution_count": null,
   "id": "e90ff35b",
   "metadata": {},
   "outputs": [],
   "source": [
    "# Draw the effcient frontier\n",
    "portfolio_data.plot(x = 'Portfolio Volatility', y = 'Portfolio Return', kind = 'scatter', figsize = (8, 7))"
   ]
  },
  {
   "cell_type": "markdown",
   "id": "747e22c7",
   "metadata": {},
   "source": [
    "### Minimum variance portfolio"
   ]
  },
  {
   "cell_type": "code",
   "execution_count": null,
   "id": "84dc3d71",
   "metadata": {},
   "outputs": [],
   "source": [
    "min_var_portfolio = portfolio_data.iloc[portfolio_data['Portfolio Volatility'].idxmin()]\n",
    "min_var_portfolio"
   ]
  },
  {
   "cell_type": "markdown",
   "id": "bce75b17",
   "metadata": {},
   "source": [
    "### Optimal risky portfolio"
   ]
  },
  {
   "cell_type": "code",
   "execution_count": null,
   "id": "a1dea9a1",
   "metadata": {},
   "outputs": [],
   "source": [
    "# consider risk-free asset to be 12months US T-bill (https://www.bloomberg.com/markets/rates-bonds/government-bonds/us)\n",
    "rf = 0.0152\n",
    "\n",
    "# Find the portfolio with the highest sharpe ratio\n",
    "opt_risk_portfolio = portfolio_data.iloc[((portfolio_data['Portfolio Return']-rf)/portfolio_data['Portfolio Volatility']).idxmax()]\n",
    "opt_risk_portfolio"
   ]
  },
  {
   "cell_type": "markdown",
   "id": "083eb7f4",
   "metadata": {},
   "source": [
    "### Capital Allocation Line (CAL)"
   ]
  },
  {
   "cell_type": "code",
   "execution_count": null,
   "id": "1b1eb9db",
   "metadata": {},
   "outputs": [],
   "source": [
    "x = np.linspace(start=0, stop=0.12, num=100)\n",
    "y = rf + (opt_risk_portfolio[0]-rf)/opt_risk_portfolio[1] * x"
   ]
  },
  {
   "cell_type": "code",
   "execution_count": null,
   "id": "db74a752",
   "metadata": {},
   "outputs": [],
   "source": [
    "# Draw the effcient frontier, CML(red), optimal portfolio (red), minimum variance portfolio (yellow)\n",
    "plt.subplots(figsize = (12, 7))\n",
    "plt.xlabel('Portfolio Volatility')\n",
    "plt.ylabel('Portfolio Return')\n",
    "plt.scatter(portfolio_data['Portfolio Volatility'], portfolio_data['Portfolio Return'])\n",
    "plt.scatter(min_var_portfolio[1], min_var_portfolio[0], marker = 'o' , color = 'y', label='Minimum Variance Portfolio')\n",
    "plt.scatter(opt_risk_portfolio[1], opt_risk_portfolio[0], marker = 'o', color = 'r', label = 'Optimal Portfolio')\n",
    "plt.plot(x, y, color = 'red', label = 'CAL')\n",
    "plt.legend(loc='best')"
   ]
  },
  {
   "cell_type": "markdown",
   "id": "67f80d16",
   "metadata": {},
   "source": [
    "## CAPM"
   ]
  },
  {
   "cell_type": "markdown",
   "id": "4eb6a1f6",
   "metadata": {},
   "source": [
    "### Stock beta"
   ]
  },
  {
   "cell_type": "code",
   "execution_count": null,
   "id": "1a341d89",
   "metadata": {},
   "outputs": [],
   "source": [
    "# let the market proxy be the S&P500, import the S&P500 daily prices\n",
    "market_prices = pd.DataFrame(web.DataReader('^GSPC', 'yahoo', start = '2017-03-24', end = '2022-03-24')['Adj Close'])\n",
    "\n",
    "# Compute log returns\n",
    "market_daily_return = np.log(market_prices/market_prices.shift(1))\n",
    "\n",
    "# Add S&P 500 returns to dataframe\n",
    "stock_daily_return['S&P 500'] = market_daily_return\n",
    "stock_daily_return\n",
    "\n",
    "# Compute covariance matrix\n",
    "cov_matrix = stock_daily_return.cov()*250\n",
    "cov_matrix\n",
    "\n",
    "# Compute beta\n",
    "stock_beta = round(cov_matrix['S&P 500']/cov_matrix.iloc[5,5], 3)\n",
    "stock_beta"
   ]
  },
  {
   "cell_type": "markdown",
   "id": "e0221523",
   "metadata": {},
   "source": [
    "### Optimal portfolio beta "
   ]
  },
  {
   "cell_type": "code",
   "execution_count": null,
   "id": "30667528",
   "metadata": {
    "scrolled": true
   },
   "outputs": [],
   "source": [
    "# Drop last row (S&P 500) of stock_beta df to multiply both arrays and round results\n",
    "round(np.dot(opt_risk_portfolio[2], stock_beta.drop(axis = 0, index = \"S&P 500\")), 3)"
   ]
  }
 ],
 "metadata": {
  "kernelspec": {
   "display_name": "Python 3 (ipykernel)",
   "language": "python",
   "name": "python3"
  },
  "language_info": {
   "codemirror_mode": {
    "name": "ipython",
    "version": 3
   },
   "file_extension": ".py",
   "mimetype": "text/x-python",
   "name": "python",
   "nbconvert_exporter": "python",
   "pygments_lexer": "ipython3",
   "version": "3.9.7"
  }
 },
 "nbformat": 4,
 "nbformat_minor": 5
}
